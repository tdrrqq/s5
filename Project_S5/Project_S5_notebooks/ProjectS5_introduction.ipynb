{
 "cells": [
  {
   "cell_type": "markdown",
   "metadata": {},
   "source": [
    "# Project S5 - Building a single cell model from Allen Database using BMTK\n",
    "\n",
    "### Goals\n",
    "1.\tContinuing to learn to use APIs – You have used the following APIs so far: ```CellTypesApi``` and ```RmaApi```. In this project you will use the  ```BiophysicalApi``` to download a biophysical NEURON model from Allen database.\n",
    "2.\tLearning how to model single neurons using BMTK - Build a single cell model in BMTK, simulate current clamp experiment, and compare electrophysiology features with experimental data.\n",
    "\n",
    "### Introduction\n",
    "The Allen Cell Types Database contains biophysical models that characterize the firing behavior of neurons measured in slices through current injection by a somatic whole-cell patch clamp electrode.  \n",
    "The biophysical models are run with the NEURON simulation environment. The Allen SDK package contains libraries that assist in downloading and setting up the models available on the Allen Institute web site for users to run using NEURON. The examples and scripts provided run __on Linux__ using the bash shell.\n",
    "\n",
    "\n",
    "__Some useful links to the Allen website:__  \n",
    "&emsp;__[Introduction to Biophysical Models](https://allensdk.readthedocs.io/en/latest/biophysical_models.html)__  \n",
    "&emsp;__[Cell Type Database](http://celltypes.brain-map.org/)__   \n",
    "&emsp;__[Example jupyter notebook - Stimulating a biophysical model with a square pulse](https://allensdk.readthedocs.io/en/latest/_static/examples/nb/pulse_stimulus.html)__ \n",
    "\n",
    "### Procedure\n",
    "#### 1. Download a biophysical NEURON model.\n",
    "There are two ways to download files necessary to run a biophysical model. The first way is to visit __[Cell Type Database](http://celltypes.brain-map.org/)__ and find cells that have biophysical models available for download (Select from the Venn diagrams). The electrophysiology page of a cell has a neuronal model download link. Specifically:\n",
    "\n",
    "&emsp;Click 'Electrophysiology' of a cell  \n",
    "&emsp;Click 'Select neuronal model'  \n",
    "&emsp;Check Models -> 'Biophysical - perisomatic' or 'Biophysical - all active'   \n",
    "&emsp;Scroll down and click the 'Biophysical - perisomatic' or 'Biophysical - all active' 'Download model' link.\n",
    "\n",
    "The second way is to programmatically download it using API. The neuronal model id can be found to the left of the corresponding 'Biophysical - perisomatic' or 'Biophysical - all active' 'Download model' link.  \n",
    "We will adopt the second way to download the files using the following codes adapted from the example juptyer notebook given in the links."
   ]
  },
  {
   "cell_type": "markdown",
   "metadata": {},
   "source": [
    "Download model files according to the __model id__ which is not the same as __specimen id__,"
   ]
  },
  {
   "cell_type": "code",
   "execution_count": null,
   "metadata": {
    "scrolled": false
   },
   "outputs": [],
   "source": [
    "from allensdk.api.queries.biophysical_api import BiophysicalApi\n",
    "\n",
    "neuronal_model_id = 472451419    # get this from the web site\n",
    "model_directory = './source/'    # the files will be downloaded to the 'source' folder under current directory\n",
    "\n",
    "bp = BiophysicalApi('http://api.brain-map.org')\n",
    "bp.cache_stimulus = False # don't want to download the large stimulus NWB file\n",
    "bp.cache_data(neuronal_model_id, working_directory=model_directory)"
   ]
  },
  {
   "cell_type": "markdown",
   "metadata": {},
   "source": [
    "#### 2. Check cell information and electrophysiology features.\n",
    "After downloading is done, the __specimen id__ can be found in the file name of xxxxxx_fit.json which contains biophysical model parameters.  \n",
    "For this example, it is 386049446. Use the API to access the Cell Type Database to see the cell information and its electrophysiology features from biological recordings as you did in Project S4-2."
   ]
  },
  {
   "cell_type": "code",
   "execution_count": null,
   "metadata": {
    "scrolled": true
   },
   "outputs": [],
   "source": [
    "from allensdk.api.queries.cell_types_api import CellTypesApi\n",
    "cta = CellTypesApi() # the CellTypesApi instance\n",
    "cell = cta.get_cell(386049446)\n",
    "cell"
   ]
  },
  {
   "cell_type": "code",
   "execution_count": null,
   "metadata": {},
   "outputs": [],
   "source": [
    "from allensdk.api.queries.rma_api import RmaApi\n",
    "rma = RmaApi() # the RmaApi instance\n",
    "data = rma.model_query(model='EphysFeature',criteria='[specimen_id$eq386049446]')[0]\n",
    "data"
   ]
  },
  {
   "cell_type": "markdown",
   "metadata": {},
   "source": [
    "#### 3. Simulate in NEURON (from the example notebook)\n",
    "The following part runs a simulation with a current clamp using NEURON."
   ]
  },
  {
   "cell_type": "code",
   "execution_count": 1,
   "metadata": {},
   "outputs": [],
   "source": [
    "# based on allensdk.model.biophysical.biophysical_perisomatic.runner\n",
    "\n",
    "# These will be useful for accessing and configuring the downloaded model\n",
    "from allensdk.model.biophys_sim.config import Config\n",
    "from allensdk.model.biophysical.utils import Utils\n",
    "\n",
    "# not using NwbDataSet\n",
    "# from allensdk.core.nwb_data_set import NwbDataSet\n",
    "\n",
    "# We'll save results to a simple text file instead\n",
    "from allensdk.core.dat_utilities import DatUtilities\n",
    "\n",
    "import os\n",
    "cwd = os.getcwd()"
   ]
  },
  {
   "cell_type": "markdown",
   "metadata": {},
   "source": [
    "Compile modfiles in 'source' folder. If this does not work in Windows, manually compile the 'modfiles' folder and move the 'nrnmech.dll' file to the 'source' folder."
   ]
  },
  {
   "cell_type": "code",
   "execution_count": null,
   "metadata": {
    "scrolled": true
   },
   "outputs": [],
   "source": [
    "os.chdir('source')\n",
    "print(os.system('nrnivmodl modfiles')) # compile modfiles. Return 0 for success, 1 for failure.\n",
    "os.chdir(cwd)"
   ]
  },
  {
   "cell_type": "markdown",
   "metadata": {},
   "source": [
    "Set up model configurations."
   ]
  },
  {
   "cell_type": "code",
   "execution_count": 2,
   "metadata": {},
   "outputs": [],
   "source": [
    "os.chdir('source')\n",
    "\n",
    "description = Config().load('manifest.json')\n",
    "utils = Utils(description)\n",
    "h = utils.h # NEURON handle\n",
    "\n",
    "# configure model\n",
    "manifest = description.manifest\n",
    "morphology_path = description.manifest.get_path('MORPHOLOGY')\n",
    "utils.generate_morphology(morphology_path.encode('ascii', 'ignore'))\n",
    "utils.load_cell_parameters()\n",
    "\n",
    "os.chdir(cwd)"
   ]
  },
  {
   "cell_type": "markdown",
   "metadata": {},
   "source": [
    "At this point the cell model has been fully set up in NEURON.\n",
    "\n",
    "Configure a simple current-clamp stimulus to generate some spikes."
   ]
  },
  {
   "cell_type": "code",
   "execution_count": 3,
   "metadata": {},
   "outputs": [],
   "source": [
    "stim = h.IClamp(h.soma[0](0.5))\n",
    "stim.amp = 0.18  # nA\n",
    "stim.delay = 500.0\n",
    "stim.dur = 1000.0\n",
    "\n",
    "h.tstop = 2000.0\n",
    "\n",
    "vec = utils.record_values()"
   ]
  },
  {
   "cell_type": "code",
   "execution_count": 4,
   "metadata": {},
   "outputs": [
    {
     "data": {
      "text/plain": [
       "0.0"
      ]
     },
     "execution_count": 4,
     "metadata": {},
     "output_type": "execute_result"
    }
   ],
   "source": [
    "h.finitialize()\n",
    "h.run()"
   ]
  },
  {
   "cell_type": "markdown",
   "metadata": {},
   "source": [
    "Save the result to a simple time and voltage space-separated text file."
   ]
  },
  {
   "cell_type": "code",
   "execution_count": 5,
   "metadata": {},
   "outputs": [],
   "source": [
    "import numpy\n",
    "\n",
    "output_path = './source/output_voltage.dat'\n",
    "\n",
    "junction_potential = description.data['fitting'][0]['junction_potential']\n",
    "mV = 1.0e-3\n",
    "ms = 1.0e-3\n",
    "\n",
    "output_data = (numpy.array(vec['v']) - junction_potential) * mV\n",
    "output_times = numpy.array(vec['t']) * ms\n",
    "\n",
    "data = numpy.transpose(numpy.vstack((output_times, output_data)))\n",
    "with open (output_path, \"w\") as f:\n",
    "    numpy.savetxt(f, data)"
   ]
  },
  {
   "cell_type": "markdown",
   "metadata": {},
   "source": [
    "Plot membrane voltage trace."
   ]
  },
  {
   "cell_type": "code",
   "execution_count": 6,
   "metadata": {
    "scrolled": false
   },
   "outputs": [
    {
     "data": {
      "image/png": "[encoded data removed]",
      "text/plain": [
       "<Figure size 432x288 with 1 Axes>"
      ]
     },
     "metadata": {
      "needs_background": "light"
     },
     "output_type": "display_data"
    }
   ],
   "source": [
    "%matplotlib inline\n",
    "import matplotlib.pyplot as plt\n",
    "plt.plot(vec['t'], numpy.array(vec['v']) - junction_potential)\n",
    "plt.xlabel('time (ms)')\n",
    "plt.ylabel('membrane potential (mV)')\n",
    "plt.show()"
   ]
  },
  {
   "cell_type": "markdown",
   "metadata": {},
   "source": [
    "#### 4. Build a single cell model in BMTK using downloaded files.\n",
    "Follow the BMTK tutorial 01 and use the files downloaded in the previous notebook to build a single cell model. If you need more instructions on how to build a model, try out the notebook ```01_single_cell_clamped_S5.ipynb``` adapted from the BMTK tutorial 01 for building the model of the example cell downloaded in this notebook."
   ]
  },
  {
   "cell_type": "markdown",
   "metadata": {},
   "source": [
    "### Details of Tasks\n",
    "1. Download a perisomatic model with __model_id = 485591806__ or choose another cell that has biophysical model available from the Allen Cell Type database website using this notebook as example.\n",
    "2. Then build the single cell model with current clamp using BMTK.\n",
    "3. Simulate with different current amplitudes using the model you build and find out the threshold for the neuron to fire. Compare the threshold you find with ```threshold_i_long_square``` (unit: pA) given in the electrophysiology features from the biological recordings.\n",
    "4. You can also compare other features if you are interested (Optional). Check __[electrophysiology overview technical whitepaper](http://help.brain-map.org/download/attachments/8323525/CellTypes_Ephys_Overview.pdf)__ to see how the electrophysiology features are quantified.\n",
    "5. Finally, in your own words, describe what you learned from this project. Also, comment on what can be improved in the project."
   ]
  },
  {
   "cell_type": "code",
   "execution_count": null,
   "metadata": {},
   "outputs": [],
   "source": []
  }
 ],
 "metadata": {
  "kernelspec": {
   "display_name": "Python 3",
   "language": "python",
   "name": "python3"
  },
  "language_info": {
   "codemirror_mode": {
    "name": "ipython",
    "version": 3
   },
   "file_extension": ".py",
   "mimetype": "text/x-python",
   "name": "python",
   "nbconvert_exporter": "python",
   "pygments_lexer": "ipython3",
   "version": "3.6.10"
  }
 },
 "nbformat": 4,
 "nbformat_minor": 1
}
