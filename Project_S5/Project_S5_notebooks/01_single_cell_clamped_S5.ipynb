{
 "cells": [
  {
   "cell_type": "markdown",
   "metadata": {},
   "source": [
    "# Chapter 1: Single cell simulation with current injection (for Project S5)\n",
    "\n",
    "In this example we will build a network consisting of a single biophysically detailed cell. Then we will run a short simulation with a current injection at the soma of the cell, then look at the output of spikes, membrane potential and calcium flux.\n",
    "\n",
    "\n",
    "**Note** - This example is adapted from the __[BMTK Tutorial 01](https://github.com/AllenInstitute/bmtk/blob/develop/docs/tutorial/01_single_cell_clamped.ipynb)__.\n",
    "\n",
    "**requirements:**\n",
    "* Python 2.7, 3.6+\n",
    "* bmtk\n",
    "* NEURON 7.4+"
   ]
  },
  {
   "cell_type": "markdown",
   "metadata": {},
   "source": [
    "## 1. Building the network\n",
    "\n",
    "First step is to use the bmtk Network Builder to create and save the network. First we instantiate a network with a name or our choosing (since throughout this tutorial we will use cell models that from the mouse cortex, let's call our network 'mcortex'). \n",
    "\n",
    "Once we have a network, we can add a single node by calling the add_nodes method."
   ]
  },
  {
   "cell_type": "code",
   "execution_count": null,
   "metadata": {},
   "outputs": [],
   "source": [
    "from bmtk.builder.networks import NetworkBuilder\n",
    "\n",
    "net = NetworkBuilder('Rorb-Cre')\n",
    "net.add_nodes(cell_name='484559000',\n",
    "              potental='exc',\n",
    "              model_type='biophysical',\n",
    "              model_template='ctdb:Biophys1.hoc',\n",
    "              model_processing='aibs_perisomatic',\n",
    "              dynamics_params='484559000_fit.json',\n",
    "              morphology='Rorb-IRES2-Cre-D_Ai14-201965.03.02.01_492101093_m.swc')"
   ]
  },
  {
   "cell_type": "markdown",
   "metadata": {},
   "source": [
    "Some of the parameters used to create the node are optional and only for our benefit. Others are necessary for when we will eventually run a simulation:\n",
    "* *cell_name* (optional) - Name/type of cell we will be modeling.\n",
    "* *potential* (optional) - Use to indicate that it is an excitatory type cell.\n",
    "* *model_type* - Used by the simulator to indicate that we are using a biophysical cell.\n",
    "* __*dynamics_params*__ - Model parameters. File will be downloaded from the Allen Cell Types Database. \n",
    "* __*morphology*__ - Model morphology. File will be downloaded from the Allen Cell Types Database.\n",
    "* *model_processing* - A custom function used by the simulator to load the model into NEURON using Allen Cell-Types files for perisomatic models ('aibs_allactive' for all_active model).\n",
    " \n",
    "#### Building and saving\n",
    "The final thing to do is to build and save the network. If successful, we should see a combination of hdf5 and csv files in the './network' directory, these files are used describe the network, and can be saved, stored and run at a later date.\n",
    "\n",
    "First, it's a good idea to remove any old files in the \"network\" folder so they don't interfere with the current simulation."
   ]
  },
  {
   "cell_type": "code",
   "execution_count": null,
   "metadata": {},
   "outputs": [],
   "source": [
    "%%bash\n",
    "rm network/*"
   ]
  },
  {
   "cell_type": "markdown",
   "metadata": {},
   "source": [
    "If you get the output:\n",
    "\n",
    "rm: cannot remove 'network/*': No such file or directory\n",
    "\n",
    "It's OK. Keep going."
   ]
  },
  {
   "cell_type": "code",
   "execution_count": null,
   "metadata": {},
   "outputs": [],
   "source": [
    "net.build()\n",
    "net.save_nodes(output_dir='network')"
   ]
  },
  {
   "cell_type": "markdown",
   "metadata": {},
   "source": [
    "Use the NetworkBuilder nodes() method to show that a node of our parameters was created"
   ]
  },
  {
   "cell_type": "code",
   "execution_count": null,
   "metadata": {},
   "outputs": [],
   "source": [
    "for node in net.nodes():\n",
    "    print(node)"
   ]
  },
  {
   "cell_type": "markdown",
   "metadata": {},
   "source": [
    "## 2. Setting up the simulator enviornment\n",
    "\n",
    "Now that the network has been built, we can use the BioNet simulator to setup and run it using NEURON. The easiest ways to do this is to copy and modify [existing simulation setup](https://github.com/AllenInstitute/bmtk/tree/develop/docs/examples/bio_14cells), or use the  ```bmtk.utils.sim_setup``` script which can be called from the command-line\n",
    "\n",
    "```bash\n",
    "$ python -m bmtk.utils.sim_setup  --report-vars v,cai --network network --iclamp 0.18,500.0,1000.0 --dt 0.025 --tstop 2000.0 --include-examples --compile-mechanisms bionet Proj_S5\n",
    "```\n",
    "Or call the function directly in python"
   ]
  },
  {
   "cell_type": "code",
   "execution_count": null,
   "metadata": {},
   "outputs": [],
   "source": [
    "from bmtk.utils.sim_setup import build_env_bionet\n",
    "\n",
    "build_env_bionet(base_dir='Proj_S5',      # Where to save the scripts and config files \n",
    "                 network_dir='network',    # Location of directory containing network files\n",
    "                 tstop=2000.0, dt=0.025,     # Run a simulation for 2000 ms at 0.025 ms intervals\n",
    "                 report_vars=['v', 'cai'], # Tells simulator we want to record membrane potential and calcium traces\n",
    "                 current_clamp={           # Creates a step current from 500.ms to 1500.0 ms  \n",
    "                     'amp': 0.180,\n",
    "                     'delay': 500.0,\n",
    "                     'duration': 1000.0\n",
    "                 },\n",
    "                 include_examples=False,    # Copies components files\n",
    "                 compile_mechanisms=True   # Will try to compile NEURON mechanisms\n",
    "                )"
   ]
  },
  {
   "cell_type": "markdown",
   "metadata": {},
   "source": [
    "<div class=\"alert alert-warning\">\n",
    "**Warning**: You may see an error that it filed while trying to compile the NEURON mechanisms - especially if jupyter is unable to find your NEURON environment path. If this happens you will need to manually compile the mechanisms:  \n",
    "\n",
    "```\n",
    " cd Proj_S5/components/mechanisms  \n",
    " nrnivmodl modfiles\n",
    "```\n",
    "</div>\n",
    "\n",
    "\n",
    "\n",
    "This will create the directory **Proj_S5** (feel free to give it a better name or set it to a different locations) with a number of new files and folders. Some of the more important ones include:\n",
    "* **circuit_config.json** - A configuration file that contains the location of the network files we created above. Plus location of neuron and synpatic models, templates, morphologies and mechanisms required to build our instantiate individual cell models.\n",
    "\n",
    "\n",
    "* **simulation_config.json** - contains information about the simulation. Including initial conditions and run-time configuration (_run_ and _conditions_). In the _inputs_ section we define what external sources we will use to drive the network (in this case a current clamp). And in the _reports_ section we define the variables (soma membrane potential and calcium) that will be recorded during the simulation \n",
    "\n",
    "\n",
    "* **components/biophysical_neuron_models/472363762_fit.json** - The parameter file for the cell we're modeling. Originally [downloaded from the Allen Cell Types Database](http://celltypes.brain-map.org/neuronal_model/download/482934212)\n",
    "\n",
    "\n",
    "* **components/biophysical_neuron_models/Scnn1a_473845048_m.swc** - The morphology file for our cell. Originally [downloaded from the Allen Cell Types Database](http://celltypes.brain-map.org/neuronal_model/download/482934212)\n",
    "\n",
    "\n",
    "Modifying these files with a text editor, or swapping out different parameter or morphologies, allows changing the simulation without extra programming."
   ]
  },
  {
   "cell_type": "markdown",
   "metadata": {},
   "source": [
    "### Place the model files in proper directory\n",
    "We will need to move the parameters and morphology files we will be using in the model into our simulator enviornment by doing either\n",
    "* Copy *386049446_fit.json*  and place it in /Proj_S5/components/biophysical_neuron_models\n",
    "* Copy *Nr5a1-Cre_Ai14-177334.05.01.01_491459171_m.swc* and place it in /Proj_S5/components/morphologies\n",
    "\n",
    "or directly run the command below in python."
   ]
  },
  {
   "cell_type": "code",
   "execution_count": null,
   "metadata": {},
   "outputs": [],
   "source": [
    "%%bash\n",
    "cp source/386049446_fit.json Proj_S5/components/biophysical_neuron_models\n",
    "cp source/Nr5a1-Cre_Ai14-177334.05.01.01_491459171_m.swc Proj_S5/components/morphologies"
   ]
  },
  {
   "cell_type": "markdown",
   "metadata": {},
   "source": [
    "## 3. Running the simulation\n",
    "\n",
    "Once our config file is setup we can run a simulation either through the command line:\n",
    "```bash\n",
    "$ python run_bionet.py simulation_config.json\n",
    "```\n",
    "\n",
    "or through the script"
   ]
  },
  {
   "cell_type": "code",
   "execution_count": 1,
   "metadata": {},
   "outputs": [
    {
     "name": "stdout",
     "output_type": "stream",
     "text": [
      "2020-05-05 20:38:41,598 [INFO] Created log file\n",
      "2020-05-05 20:38:41,666 [INFO] Building cells.\n",
      "2020-05-05 20:38:41,787 [INFO] Building recurrent connections\n",
      "2020-05-05 20:38:41,799 [INFO] Running simulation for 2000.000 ms with the time step 0.025 ms\n",
      "2020-05-05 20:38:41,800 [INFO] Starting timestep: 0 at t_sim: 0.000 ms\n",
      "2020-05-05 20:38:41,801 [INFO] Block save every 5000 steps\n",
      "2020-05-05 20:38:42,057 [INFO]     step:5000 t_sim:125.00 ms\n",
      "2020-05-05 20:38:42,300 [INFO]     step:10000 t_sim:250.00 ms\n",
      "2020-05-05 20:38:42,546 [INFO]     step:15000 t_sim:375.00 ms\n",
      "2020-05-05 20:38:42,789 [INFO]     step:20000 t_sim:500.00 ms\n",
      "2020-05-05 20:38:43,027 [INFO]     step:25000 t_sim:625.00 ms\n",
      "2020-05-05 20:38:43,264 [INFO]     step:30000 t_sim:750.00 ms\n",
      "2020-05-05 20:38:43,501 [INFO]     step:35000 t_sim:875.00 ms\n",
      "2020-05-05 20:38:43,741 [INFO]     step:40000 t_sim:1000.00 ms\n",
      "2020-05-05 20:38:43,982 [INFO]     step:45000 t_sim:1125.00 ms\n",
      "2020-05-05 20:38:44,226 [INFO]     step:50000 t_sim:1250.00 ms\n",
      "2020-05-05 20:38:44,477 [INFO]     step:55000 t_sim:1375.00 ms\n",
      "2020-05-05 20:38:44,715 [INFO]     step:60000 t_sim:1500.00 ms\n",
      "2020-05-05 20:38:44,957 [INFO]     step:65000 t_sim:1625.00 ms\n",
      "2020-05-05 20:38:45,194 [INFO]     step:70000 t_sim:1750.00 ms\n",
      "2020-05-05 20:38:45,433 [INFO]     step:75000 t_sim:1875.00 ms\n",
      "2020-05-05 20:38:45,679 [INFO]     step:80000 t_sim:2000.00 ms\n",
      "2020-05-05 20:38:45,686 [INFO] Simulation completed in 3.886 seconds \n"
     ]
    }
   ],
   "source": [
    "from bmtk.simulator import bionet\n",
    "\n",
    "conf = bionet.Config.from_json('Proj_S5/simulation_config.json')\n",
    "conf.build_env()\n",
    "net = bionet.BioNetwork.from_config(conf)\n",
    "sim = bionet.BioSimulator.from_config(conf, network=net)\n",
    "sim.run()"
   ]
  },
  {
   "cell_type": "markdown",
   "metadata": {},
   "source": [
    "<div class=\"alert alert-warning\">\n",
    "**Warning**: If you the the following error\n",
    "    argument not a density mechanism name.\n",
    "You will need to compile the NEURON mechanisms  \n",
    "\n",
    "\n",
    "```\n",
    " cd Proj_S5/components/mechanisms\n",
    " nrnivmodl modfiles\n",
    " \n",
    "```\n",
    "</div>\n",
    "\n",
    "A quick breakdown of the script:\n",
    "```python\n",
    "conf = config.from_json('config.json')\n",
    "io.setup_output_dir(conf)\n",
    "nrn.load_neuron_modules(conf)\n",
    "```\n",
    "This section loads the configuration file, it setups the output directory and files for writing during the simulation, and loads NEURON mechanisms needed by the cell model(s) during the simulation.\n",
    "\n",
    "```python\n",
    "net = bionet.BioNetwork.from_config(conf)\n",
    "```\n",
    "Creates a NEURON representation of the network, including cell models that have been converted into their NEURON equivelents.\n",
    "\n",
    "```python\n",
    "sim = Simulation.from_config(conf, network=net)\n",
    "sim.run()\n",
    "```\n",
    "Sets up and runs the NEURON simulation. When finished the output - spike times, membrane potential and Calcium influx, will be saved into the output directory as specified in the config.\n",
    "\n"
   ]
  },
  {
   "cell_type": "markdown",
   "metadata": {},
   "source": [
    "## 4. Analyzing the run\n",
    "\n",
    "The results of the simulation are placed into various files as specified in the \"output\" section of the config file. We can change this before run-time if required.\n",
    "\n",
    "All simulations will save the spike times of the network cells. These are saved in csv format (output/spikes.txt) or hdf5 format(output/spikes.h5). To get the table of spike times for our single-cell network we can run the following method from the analyzer (gid 0 corresponds to our single cell)."
   ]
  },
  {
   "cell_type": "code",
   "execution_count": null,
   "metadata": {},
   "outputs": [],
   "source": [
    "from bmtk.analyzer.spike_trains import to_dataframe\n",
    "to_dataframe(config_file='Proj_S5/simulation_config.json')"
   ]
  },
  {
   "cell_type": "markdown",
   "metadata": {},
   "source": [
    "When setting up the enviornment and config file we specified cell_vars=['v', 'cai']. This indicates to the simulator to also record membrane potential and calcium diffusion (and we can also specify other variables as long as they are supported in NEURON)."
   ]
  },
  {
   "cell_type": "code",
   "execution_count": 2,
   "metadata": {},
   "outputs": [
    {
     "data": {
      "image/png": "[encoded data removed]",
      "text/plain": [
       "<Figure size 432x288 with 1 Axes>"
      ]
     },
     "metadata": {
      "needs_background": "light"
     },
     "output_type": "display_data"
    },
    {
     "data": {
      "image/png": "[encoded data removed]",
      "text/plain": [
       "<Figure size 432x288 with 1 Axes>"
      ]
     },
     "metadata": {
      "needs_background": "light"
     },
     "output_type": "display_data"
    }
   ],
   "source": [
    "%matplotlib inline\n",
    "from bmtk.analyzer.cell_vars import plot_report\n",
    "\n",
    "plot_report(config_file='Proj_S5/simulation_config.json')"
   ]
  },
  {
   "cell_type": "markdown",
   "metadata": {},
   "source": [
    "Following script allows you to get recorded variables directly from __.h5__ data file. You can further analyze the results if needed.  \n",
    "__[Quick Start Guide](http://docs.h5py.org/en/stable/quick.html)__ for h5py data type."
   ]
  },
  {
   "cell_type": "code",
   "execution_count": null,
   "metadata": {},
   "outputs": [],
   "source": [
    "import h5py\n",
    "import numpy as np\n",
    "\n",
    "# get recorded variable from h5 file into numpy array\n",
    "f = h5py.File('Proj_S5/output/v_report.h5','r') # load data file of membrane voltage recording\n",
    "f.visit(print) # check groups\n",
    "\n",
    "print(f['report/Nr5a1-Cre/mapping/time'][()]) # time (start, stop, step size)\n",
    "t = np.arange(*f['report/Nr5a1-Cre/mapping/time']) # create a numpy array of time steps\n",
    "v = f['report/Nr5a1-Cre/data'][()] # get membrane voltage data to a numpy array\n",
    "node_id = f['report/Nr5a1-Cre/mapping/node_ids'][0] # node id (cell id is 0 since there is only 1 cell in the 'network')"
   ]
  },
  {
   "cell_type": "code",
   "execution_count": null,
   "metadata": {},
   "outputs": [],
   "source": [
    "%matplotlib inline\n",
    "import matplotlib.pyplot as plt\n",
    "\n",
    "# plot the membrane voltage\n",
    "plt.figure()\n",
    "plt.plot(t,v)\n",
    "plt.xlabel('ms')\n",
    "plt.ylabel('mV')\n",
    "plt.title('v')\n",
    "plt.legend(['node-id '+str(node_id)])\n",
    "plt.show()"
   ]
  },
  {
   "cell_type": "markdown",
   "metadata": {},
   "source": [
    "## 5. Additional Information\n",
    "\n",
    "### Changing run-time parameters.\n",
    "The input section lets us control stimulus onto the network. There are a number of different options which will be explained in the following tutorials. But even with a simple current injection we can adjust amplitude, delay and stimulation duration and measure the effect on the cell.\n",
    "```json\n",
    "\"inputs\": {\n",
    " \t\"current_clamp\": {\n",
    "      \"input_type\": \"current_clamp\",\n",
    "      \"module\": \"IClamp\",\n",
    "      \"node_set\": \"all\",\n",
    "      \"amp\": 0.120,\n",
    "      \"delay\": 500.0,\n",
    "      \"duration\": 1000.0\n",
    "    }\n",
    "}\n",
    "```"
   ]
  },
  {
   "cell_type": "markdown",
   "metadata": {},
   "source": [
    "### Changing cell models\n",
    "When building the network we defined the cell model and morphology through the 'dynamics_params' and 'morphology_file' options. After building and saving the network, these values were saved in the node-types csv file."
   ]
  },
  {
   "cell_type": "code",
   "execution_count": null,
   "metadata": {},
   "outputs": [],
   "source": [
    "import pandas as pd\n",
    "pd.read_csv('network/Nr5a1-Cre_node_types.csv', sep=' ')"
   ]
  },
  {
   "cell_type": "markdown",
   "metadata": {},
   "source": [
    "If we want to run the simulation on a different cell model, all we have to do is \n",
    "1. Download new parameters.json and morphology.swc into components/biophysical_neuron_models and components/morphologies respectively.\n",
    "2. Open Nr5a1-Cre_node_types.csv in a text editor and update 'morphology_file' and 'params_file' accordingly.\n",
    "\n",
    "In our simple one-cell example, it is likely faster to just rebuild the network. However the advantage of the use of the node types becomes clear once we start dealing with a larger network. For example we may have a network of hundreds of thousands of individual cells with tens of thousands of Scnn1a type cells. The process of adjusting/changing the Scnn1a parameter in the csv then starting another simulation only takes seconds, whereas rebuilding the entire network may take hours."
   ]
  },
  {
   "cell_type": "code",
   "execution_count": null,
   "metadata": {},
   "outputs": [],
   "source": []
  }
 ],
 "metadata": {
  "anaconda-cloud": {},
  "kernelspec": {
   "display_name": "Python 3",
   "language": "python",
   "name": "python3"
  },
  "language_info": {
   "codemirror_mode": {
    "name": "ipython",
    "version": 3
   },
   "file_extension": ".py",
   "mimetype": "text/x-python",
   "name": "python",
   "nbconvert_exporter": "python",
   "pygments_lexer": "ipython3",
   "version": "3.6.10"
  }
 },
 "nbformat": 4,
 "nbformat_minor": 2
}
